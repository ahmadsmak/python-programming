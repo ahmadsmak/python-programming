{
 "cells": [
  {
   "cell_type": "code",
   "execution_count": 1,
   "id": "61bb1390",
   "metadata": {},
   "outputs": [
    {
     "name": "stdout",
     "output_type": "stream",
     "text": [
      "\"twinkle, twinkle, little star\n",
      "                   how i wonder what you are!\n",
      "                            up above the world so high\n",
      "                            like a diamond in the sky\n",
      "             twinkle, twinkle, little star\n",
      "                   how i wonder what you are!\n"
     ]
    }
   ],
   "source": [
    "print(\"\"\"\"twinkle, twinkle, little star\n",
    "                   how i wonder what you are!\n",
    "                            up above the world so high\n",
    "                            like a diamond in the sky\n",
    "             twinkle, twinkle, little star\n",
    "                   how i wonder what you are!\"\"\")"
   ]
  },
  {
   "cell_type": "code",
   "execution_count": 3,
   "id": "d34d5afb",
   "metadata": {},
   "outputs": [
    {
     "name": "stdout",
     "output_type": "stream",
     "text": [
      "Python 3.8.8\n"
     ]
    }
   ],
   "source": [
    "!python -V"
   ]
  },
  {
   "cell_type": "code",
   "execution_count": 4,
   "id": "454515aa",
   "metadata": {},
   "outputs": [
    {
     "name": "stdout",
     "output_type": "stream",
     "text": [
      "Python 3.8.8\n"
     ]
    }
   ],
   "source": [
    "!python --version"
   ]
  },
  {
   "cell_type": "code",
   "execution_count": 4,
   "id": "902cdb1e",
   "metadata": {},
   "outputs": [
    {
     "name": "stdout",
     "output_type": "stream",
     "text": [
      "current date and time is: \n",
      "22-01-04 12:25:32\n"
     ]
    }
   ],
   "source": [
    "import datetime\n",
    "now = datetime.datetime.now()\n",
    "print(\"current date and time is: \")\n",
    "print(now.strftime(\"%y-%m-%d %H:%M:%S\"))"
   ]
  },
  {
   "cell_type": "code",
   "execution_count": 6,
   "id": "44db9e23",
   "metadata": {},
   "outputs": [
    {
     "name": "stdout",
     "output_type": "stream",
     "text": [
      "what is the radius of circle: 7\n",
      "22.0\n"
     ]
    }
   ],
   "source": [
    "radius = int(input(\"what is the radius of circle: \"))\n",
    "area = 22/7*(radius);\n",
    "print(area);"
   ]
  },
  {
   "cell_type": "code",
   "execution_count": 1,
   "id": "8306da8d",
   "metadata": {},
   "outputs": [
    {
     "name": "stdout",
     "output_type": "stream",
     "text": [
      "what is the radius of circle: 9\n",
      "28.285714285714285\n"
     ]
    }
   ],
   "source": [
    "a = radius = int(input(\"what is the radius of circle: \"))\n",
    "area = 22/7*(a);\n",
    "print(area);"
   ]
  },
  {
   "cell_type": "code",
   "execution_count": 2,
   "id": "d92093ee",
   "metadata": {},
   "outputs": [
    {
     "name": "stdout",
     "output_type": "stream",
     "text": [
      "enter the radius of circle: 7\n",
      "22.0\n"
     ]
    }
   ],
   "source": [
    "x = radius = int(input(\"enter the radius of circle: \"))\n",
    "π = 22/7;\n",
    "area = π*x\n",
    "print(area)"
   ]
  },
  {
   "cell_type": "code",
   "execution_count": 5,
   "id": "a76a0b1b",
   "metadata": {},
   "outputs": [
    {
     "name": "stdout",
     "output_type": "stream",
     "text": [
      "enter the first value9\n",
      "enter the second value10\n",
      "19\n"
     ]
    }
   ],
   "source": [
    "a = int(input(\"enter the first value\"))\n",
    "b = int(input(\"enter the second value\"))\n",
    "c = a + b;\n",
    "print(c)"
   ]
  },
  {
   "cell_type": "code",
   "execution_count": 4,
   "id": "2d3f3072",
   "metadata": {},
   "outputs": [
    {
     "name": "stdout",
     "output_type": "stream",
     "text": [
      "first_nameahmad\n",
      "last_namesmak\n",
      "smakahmad\n"
     ]
    }
   ],
   "source": [
    "a = input(\"first_name\")\n",
    "b = input(\"last_name\")\n",
    "print(b + a)\n"
   ]
  },
  {
   "cell_type": "code",
   "execution_count": 10,
   "id": "2391d84a",
   "metadata": {},
   "outputs": [
    {
     "name": "stdout",
     "output_type": "stream",
     "text": [
      "first_nameahmad\n",
      "last_namesmak\n",
      "smak ahmad\n"
     ]
    }
   ],
   "source": [
    "a = input(\"first_name\")\n",
    "b = input(\"last_name\")\n",
    "print(f\"{b} {a}\")"
   ]
  },
  {
   "cell_type": "code",
   "execution_count": null,
   "id": "e89640e0",
   "metadata": {},
   "outputs": [],
   "source": []
  }
 ],
 "metadata": {
  "kernelspec": {
   "display_name": "Python 3",
   "language": "python",
   "name": "python3"
  },
  "language_info": {
   "codemirror_mode": {
    "name": "ipython",
    "version": 3
   },
   "file_extension": ".py",
   "mimetype": "text/x-python",
   "name": "python",
   "nbconvert_exporter": "python",
   "pygments_lexer": "ipython3",
   "version": "3.8.8"
  }
 },
 "nbformat": 4,
 "nbformat_minor": 5
}
